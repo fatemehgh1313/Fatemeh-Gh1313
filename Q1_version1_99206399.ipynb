{
  "nbformat": 4,
  "nbformat_minor": 0,
  "metadata": {
    "colab": {
      "name": "Q1_version1_99206399.ipynb",
      "provenance": [],
      "collapsed_sections": [],
      "include_colab_link": true
    },
    "kernelspec": {
      "display_name": "Python 3",
      "language": "python",
      "name": "python3"
    },
    "language_info": {
      "codemirror_mode": {
        "name": "ipython",
        "version": 3
      },
      "file_extension": ".py",
      "mimetype": "text/x-python",
      "name": "python",
      "nbconvert_exporter": "python",
      "pygments_lexer": "ipython3",
      "version": "3.7.9"
    }
  },
  "cells": [
    {
      "cell_type": "markdown",
      "metadata": {
        "id": "view-in-github",
        "colab_type": "text"
      },
      "source": [
        "<a href=\"https://colab.research.google.com/github/fatemehgh1313/fatemehgh1313/blob/main/Q1_version1_99206399.ipynb\" target=\"_parent\"><img src=\"https://colab.research.google.com/assets/colab-badge.svg\" alt=\"Open In Colab\"/></a>"
      ]
    },
    {
      "cell_type": "markdown",
      "metadata": {
        "id": "00rXaf5NkZh5"
      },
      "source": [
        "#mount drive"
      ]
    },
    {
      "cell_type": "code",
      "metadata": {
        "id": "R9-mO5sf0VRy"
      },
      "source": [
        "from google.colab import drive\n",
        "drive.mount('/content/drive')"
      ],
      "execution_count": null,
      "outputs": []
    },
    {
      "cell_type": "markdown",
      "metadata": {
        "id": "_Qi6ShN-TdhQ"
      },
      "source": [
        "##change python version\n",
        "If you want to switch TensorFlow versions after import, you will need to restart your runtime with 'Runtime' -> 'Restart runtime...' and then specify the version before you import it again."
      ]
    },
    {
      "cell_type": "code",
      "metadata": {
        "colab": {
          "base_uri": "https://localhost:8080/",
          "height": 35
        },
        "id": "-ou1UOGL6bDZ",
        "outputId": "017a4a79-f4cb-471f-92ba-e470997d99d1"
      },
      "source": [
        "#need factory reset runtime\n",
        "import numpy as np\n",
        "import tensorflow as tf\n",
        "%tensorflow_version 1.x\n",
        "tf.__version__"
      ],
      "execution_count": null,
      "outputs": [
        {
          "data": {
            "application/vnd.google.colaboratory.intrinsic+json": {
              "type": "string"
            },
            "text/plain": [
              "'1.15.2'"
            ]
          },
          "execution_count": 2,
          "metadata": {},
          "output_type": "execute_result"
        }
      ]
    },
    {
      "cell_type": "code",
      "metadata": {
        "colab": {
          "base_uri": "https://localhost:8080/"
        },
        "id": "DKAWb_kVeRPW",
        "outputId": "9a7f0da3-1fb8-4c85-c28d-14efe76b94ed"
      },
      "source": [
        "%tensorflow_version 1.x"
      ],
      "execution_count": null,
      "outputs": [
        {
          "name": "stdout",
          "output_type": "stream",
          "text": [
            "TensorFlow 1.x selected.\n"
          ]
        }
      ]
    },
    {
      "cell_type": "markdown",
      "metadata": {
        "id": "G9qSAgmQdVnH"
      },
      "source": [
        "## import packages:\n"
      ]
    },
    {
      "cell_type": "code",
      "metadata": {
        "id": "s5s_nmxhEVCB"
      },
      "source": [
        "import numpy as np\n",
        "from sklearn.model_selection import train_test_split\n",
        "from sklearn.preprocessing import StandardScaler\n",
        "from matplotlib import pyplot as plt\n",
        "import sklearn\n",
        "np.random.seed(37) #dont change this line"
      ],
      "execution_count": null,
      "outputs": []
    },
    {
      "cell_type": "markdown",
      "metadata": {
        "id": "qC8JxOyeAK1F"
      },
      "source": [
        "#Load data"
      ]
    },
    {
      "cell_type": "code",
      "metadata": {
        "id": "YKu3sGBL5J1t"
      },
      "source": [
        "import numpy as np\n",
        "import pandas as pd\n",
        "import matplotlib.pyplot as plt\n",
        "import tensorflow as tf\n",
        "\n",
        "data_train = np.genfromtxt('/content/drive/My Drive/deep/HW1/Q1_train.csv', delimiter=',')\n",
        "data_train =data_train[1:,:]\n",
        "data_test = np.genfromtxt('/content/drive/My Drive/deep/HW1/Q1_test.csv', delimiter=',')\n",
        "data_test =data_test[1:,:]\n",
        "\n",
        "for i in range(data_train.shape[0]):\n",
        "   if data_train[i,0]>9 :\n",
        "     data_train[i,0]=data_train[i,0]-1\n",
        "\n",
        "for i in range(data_test.shape[0]):\n",
        "   if data_test[i,0]>9 :\n",
        "     data_test[i,0]=data_test[i,0]-1"
      ],
      "execution_count": null,
      "outputs": []
    },
    {
      "cell_type": "code",
      "metadata": {
        "colab": {
          "background_save": true,
          "base_uri": "https://localhost:8080/"
        },
        "id": "t2-_WVRePqCA",
        "outputId": "df3e8b0e-751b-4b85-960b-9c1efaae552e"
      },
      "source": [
        "print(np.shape(data_train))\n",
        "print(np.shape(data_test))"
      ],
      "execution_count": null,
      "outputs": [
        {
          "name": "stdout",
          "output_type": "stream",
          "text": [
            "(27455, 785)\n",
            "(7172, 785)\n"
          ]
        }
      ]
    },
    {
      "cell_type": "code",
      "metadata": {
        "colab": {
          "background_save": true,
          "base_uri": "https://localhost:8080/"
        },
        "id": "4fQjop9qKi6f",
        "outputId": "4770ff09-396c-4196-bc5e-e1f67d0b3416"
      },
      "source": [
        "data_train_withoutlabel = data_train[:,1:] \n",
        "data_test_withoutlabel = data_test[:,1:]\n",
        "y_train = data_train[:,0]\n",
        "y_test = data_test[:,0]\n",
        "\n",
        "# standardize data\n",
        "x_train =data_train_withoutlabel/255\n",
        "x_test =data_test_withoutlabel/255\n",
        "\n",
        "print(np.shape(x_test))\n",
        "print(np.shape(x_train))\n",
        "print(np.shape(y_test))\n",
        "print(np.shape(y_train))"
      ],
      "execution_count": null,
      "outputs": [
        {
          "name": "stdout",
          "output_type": "stream",
          "text": [
            "(7172, 784)\n",
            "(27455, 784)\n",
            "(7172,)\n",
            "(27455,)\n"
          ]
        }
      ]
    },
    {
      "cell_type": "markdown",
      "metadata": {
        "id": "1AM37S7qWGcQ"
      },
      "source": [
        "##show some datas"
      ]
    },
    {
      "cell_type": "code",
      "metadata": {
        "id": "jMIvV8ywWbBb"
      },
      "source": [
        "#first we need to create dictionay\n",
        "dictionary={0:'A',1:'B',2:'C',3:'D',4:'E',5:'F',6:'G',7:'H',8:'I',9:'K',10:'L',11:'M',12:'N',13:'O',14:'P',15:'Q',16:'R',17:'S',18:'T',19:'U',20:'V',21:'W',22:'X',23:'Y'}"
      ],
      "execution_count": null,
      "outputs": []
    },
    {
      "cell_type": "code",
      "metadata": {
        "colab": {
          "base_uri": "https://localhost:8080/",
          "height": 825
        },
        "id": "YDV1vJUue5Xh",
        "outputId": "e047334b-5648-4a09-cf24-ef259331c045"
      },
      "source": [
        "import matplotlib.pyplot as plt\n",
        "rows = 5\n",
        "cols = 5\n",
        "fig=plt.figure(figsize=(14,14))\n",
        "axes = []\n",
        "\n",
        "\n",
        "for i in range(1,cols*rows+1):\n",
        "    axes.append( fig.add_subplot(rows, cols, i) )\n",
        "    image=x_train[i-1,:]\n",
        "    image=image.reshape(28,28)\n",
        "\n",
        "    label=y_train[i-1]\n",
        "    axes[i-1].set_title(dictionary[label])\n",
        "    plt.imshow(image)\n",
        "plt.show()"
      ],
      "execution_count": null,
      "outputs": [
        {
          "data": {
            "image/png": "[encoded data removed]",
            "text/plain": [
              "<Figure size 1008x1008 with 25 Axes>"
            ]
          },
          "metadata": {},
          "output_type": "display_data"
        }
      ]
    },
    {
      "cell_type": "markdown",
      "metadata": {
        "id": "LYQnYpcadVnO"
      },
      "source": [
        "## One-Hot encoding of labels"
      ]
    },
    {
      "cell_type": "markdown",
      "metadata": {
        "id": "ZjS6RgZRdVnO"
      },
      "source": [
        "we should one-hot encode the labels AND we standardize the data by setting its mean to zero and its variance to one."
      ]
    },
    {
      "cell_type": "code",
      "metadata": {
        "colab": {
          "background_save": true,
          "base_uri": "https://localhost:8080/"
        },
        "id": "taWHi5_rdVnO",
        "outputId": "34f46e1d-7500-4436-f57f-c5df42bd9dfd"
      },
      "source": [
        "# one-hot encoding of labels\n",
        "y_train =tf.Session().run(tf.one_hot(y_train,24))\n",
        "y_test =tf.Session().run(tf.one_hot(y_test,24))\n",
        "tf.Session().close()\n",
        "\n",
        "print(np.shape(x_train))\n",
        "print(np.shape(x_test))\n",
        "print(np.shape(y_train))\n",
        "print(np.shape(y_test))\n",
        "\n",
        "scaler = StandardScaler()\n",
        "x_train = scaler.fit_transform(x_train)\n",
        "x_test = scaler.transform(x_test)\n",
        "\n",
        "x_test = x_test.T\n",
        "y_test = y_test.T"
      ],
      "execution_count": null,
      "outputs": [
        {
          "name": "stdout",
          "output_type": "stream",
          "text": [
            "(27455, 784)\n",
            "(7172, 784)\n",
            "(27455, 24)\n",
            "(7172, 24)\n"
          ]
        }
      ]
    },
    {
      "cell_type": "markdown",
      "metadata": {
        "id": "6ormtsyevp3l"
      },
      "source": [
        "##Shuffle"
      ]
    },
    {
      "cell_type": "code",
      "metadata": {
        "colab": {
          "background_save": true
        },
        "id": "vwiKppRVIjlT"
      },
      "source": [
        "X_train_shuffle = tf.Session().run(tf.random.shuffle(x_train,seed=12321))\n",
        "Y_train_shuffle = tf.Session().run(tf.random.shuffle(y_train,seed=12321))"
      ],
      "execution_count": null,
      "outputs": []
    },
    {
      "cell_type": "code",
      "metadata": {
        "colab": {
          "background_save": true,
          "base_uri": "https://localhost:8080/"
        },
        "id": "vss9D9TedVnP",
        "outputId": "a7206482-7186-4669-fa1b-2eb8961fd7b2"
      },
      "source": [
        "# split train data into train and validation sets\n",
        "X_train, X_val, Y_train, Y_val = train_test_split(x_train, y_train, test_size=0.2, random_state=42)\n",
        "print(np.shape(X_train))\n",
        "print(np.shape(X_val))\n",
        "print(np.shape(Y_train))\n",
        "print(np.shape(Y_val))"
      ],
      "execution_count": null,
      "outputs": [
        {
          "name": "stdout",
          "output_type": "stream",
          "text": [
            "(21964, 784)\n",
            "(5491, 784)\n",
            "(21964, 24)\n",
            "(5491, 24)\n"
          ]
        }
      ]
    },
    {
      "cell_type": "markdown",
      "metadata": {
        "id": "6SbBVMo9dVnQ"
      },
      "source": [
        "# define model:\n"
      ]
    },
    {
      "cell_type": "markdown",
      "metadata": {
        "id": "Fol3DQQKJueW"
      },
      "source": [
        "activation functions"
      ]
    },
    {
      "cell_type": "code",
      "metadata": {
        "colab": {
          "background_save": true
        },
        "id": "srTAZxSiEVCM"
      },
      "source": [
        "# activation functions\n",
        "def linear(x):\n",
        "    #linear activation function's output is simply its input\n",
        "    return x\n",
        "\n",
        "def sigmoid(x):\n",
        "    # out = np.array([1 / (1 + np.exp(-i)) if i > 0 else np.exp(i)/(1+np.exp(i)) for i in x])\n",
        "    out = 1 / (1 + np.exp(-x))\n",
        "    return out\n",
        "\n",
        "def softmax(x):\n",
        "    exps = np.exp(x)\n",
        "    return exps/np.sum(exps)\n",
        "\n",
        "def relu(x):\n",
        "    out = np.maximum(0, x)\n",
        "    return out\n",
        "\n",
        "# activation gradients\n",
        "def relu_backward(dA, Z):\n",
        "    out = relu(Z)\n",
        "    dZ = np.multiply(dA, np.int64(out > 0))\n",
        "    return dZ\n",
        "\n",
        "def linear_fn_backward(dA, Z):\n",
        "    dZ = dA * np.ones_like(Z)\n",
        "    return dZ\n",
        "def sigmoid_backward(dA, Z):\n",
        "    out = sigmoid(Z)\n",
        "    dZ = dA * out * (1 - out)\n",
        "    return dZ\n",
        "    \n",
        "# a method to choose between activation functions\n",
        "def activate(activation, x):\n",
        "    if activation == 'relu':\n",
        "        return relu(x)\n",
        "    elif activation == 'softmax':\n",
        "        return softmax(x)\n",
        "    elif activation == 'linear':\n",
        "        return linear(x)\n",
        "    else:\n",
        "        raise NotImplementedError('Undefined activation function')"
      ],
      "execution_count": null,
      "outputs": []
    },
    {
      "cell_type": "markdown",
      "metadata": {
        "id": "GlNqWrjMJzfc"
      },
      "source": [
        "loss functions"
      ]
    },
    {
      "cell_type": "code",
      "metadata": {
        "colab": {
          "background_save": true
        },
        "id": "f-WbgFoRIbzE"
      },
      "source": [
        "# loss functions\n",
        "def cross_entropy(y_hat, y):\n",
        "    m = y.shape[0]\n",
        "    loss = - (1 / m) * np.sum(np.multiply(y, np.log(y_hat))) \n",
        "    return loss\n",
        "\n",
        "def binary_cross_entropy(y_hat, y):\n",
        "    m = y.shape[0]\n",
        "    loss = - (1 / m) * np.sum(np.multiply(y, np.log(y_hat)) + np.multiply((1-y), np.log(1-y_hat)))\n",
        "    return loss\n",
        "\n",
        "# loss gradients\n",
        "def BCE_backward(z,y):\n",
        "    dz = np.divide(z - y ,np.multiply(z, 1 - z)) \n",
        "    return dz\n",
        "\n",
        "def CE_backward(z,y):\n",
        "    dz = np.divide(-y, z) \n",
        "    return dz\n",
        "\n",
        "# loss gradients when the last layer's activation function is softmax\n",
        "def CE_Softmax_backward(z, y):\n",
        "    dz = z - y\n",
        "    return dz\n",
        "\n",
        "def BCE_Softmax_backward(z, y):\n",
        "    y_z = np.divide((y - z), (1 - z))\n",
        "    tmp = np.ones((np.shape(y)[0], np.shape(y)[0]))\n",
        "    np.fill_diagonal(tmp, 0)\n",
        "    dz = z - y + np.multiply(z, np.matmul(tmp, y_z))\n",
        "    return dz"
      ],
      "execution_count": null,
      "outputs": []
    },
    {
      "cell_type": "markdown",
      "metadata": {
        "id": "N1L9NvDuJ7ki"
      },
      "source": [
        "computation of gradients"
      ]
    },
    {
      "cell_type": "code",
      "metadata": {
        "colab": {
          "background_save": true
        },
        "id": "HCgyeHyrIoUF"
      },
      "source": [
        "# computation of weight and bias gradients\n",
        "def linear_backward(dz, cache):\n",
        "    A_prev, W, b = cache\n",
        "    m = A_prev.shape[0]\n",
        "\n",
        "    dW = (1 / m) * np.dot(np.expand_dims(dz, axis=1), np.expand_dims(A_prev.T, axis=0))\n",
        "    db = (1 / m) * np.sum(dz, keepdims=True)\n",
        "    dA_prev = np.dot(W.T, dz)\n",
        "\n",
        "    return dA_prev, dW, db\n",
        "\n",
        "# computation of activation gradients\n",
        "def activation_backward(dA, cache, activation_fn):\n",
        "    linear_cache, activation_cache = cache\n",
        "\n",
        "    if activation_fn == 'linear':\n",
        "        dz = linear_fn_backward(dA, activation_cache)\n",
        "        dA_prev, dW, db = linear_backward(dz, linear_cache)\n",
        "\n",
        "    elif activation_fn == 'relu':\n",
        "        dz = relu_backward(dA, activation_cache)\n",
        "        dA_prev, dW, db = linear_backward(dz, linear_cache)\n",
        "    else:\n",
        "        raise NotImplementedError('Undefined activation function')\n",
        "\n",
        "    return dA_prev, dW, db\n",
        "\n",
        "# computation of loss+activation gradients when activation function is softmax\n",
        "def activation_backward_softmax(AL, Y, cache, loss_type):\n",
        "    linear_cache, activation_cache = cache\n",
        "    \n",
        "    if loss_type == 'cross_entropy' or loss_type == 'ce':\n",
        "        dz = CE_Softmax_backward(AL, Y)\n",
        "        dA_prev, dW, db = linear_backward(dz, linear_cache)\n",
        "    elif loss_type == 'binary_cross_entropy' or loss_type == 'bce':\n",
        "        dz = BCE_Softmax_backward(AL, Y)\n",
        "    else:\n",
        "        raise NotImplementedError('Undefined cost function')    \n",
        "    return dA_prev, dW, db"
      ],
      "execution_count": null,
      "outputs": []
    },
    {
      "cell_type": "markdown",
      "metadata": {
        "id": "NBldx0aXKATy"
      },
      "source": [
        "initialize weights and biases"
      ]
    },
    {
      "cell_type": "code",
      "metadata": {
        "colab": {
          "background_save": true
        },
        "id": "xZQJYSCjIth1"
      },
      "source": [
        "def initialize_parameters(units, input_dim):\n",
        "    w = np.random.normal(0, 0.01, (units, input_dim))\n",
        "    b = np.random.normal(0, 0.01, units)\n",
        "    return w, b"
      ],
      "execution_count": null,
      "outputs": []
    },
    {
      "cell_type": "markdown",
      "metadata": {
        "id": "lcHVsBRqKHIX"
      },
      "source": [
        "computation of the network's loss"
      ]
    },
    {
      "cell_type": "code",
      "metadata": {
        "colab": {
          "background_save": true
        },
        "id": "l2JjGIibI1Lw"
      },
      "source": [
        "def compute_cost(al, Y, loss_type):\n",
        "    loss_type = loss_type.lower()\n",
        "    if loss_type == 'cross_entropy' or loss_type == 'ce':\n",
        "        cost = cross_entropy(al, Y)\n",
        "    elif loss_type == 'binary_cross_entropy' or loss_type == 'bce':\n",
        "        cost = binary_cross_entropy(al, Y)\n",
        "    else:\n",
        "        raise NotImplementedError('Undefined cost function')          \n",
        "    return cost"
      ],
      "execution_count": null,
      "outputs": []
    },
    {
      "cell_type": "markdown",
      "metadata": {
        "id": "2-Dt-o8JL3ht"
      },
      "source": [
        "forward/backward propogation"
      ]
    },
    {
      "cell_type": "code",
      "metadata": {
        "colab": {
          "background_save": true
        },
        "id": "n4BBXUEiI9Bt"
      },
      "source": [
        "def forward_propagation(X, parameters, activations):\n",
        "    caches = []\n",
        "    input_vec = X\n",
        "    L = len(parameters) // 2\n",
        "    \n",
        "    for l in range(1, L+1):\n",
        "        z = np.matmul(parameters['W'+str(l)], input_vec) + parameters['b'+str(l)]\n",
        "        y = activate(activations[l-1], z)\n",
        "        linear_cache = (input_vec, parameters['W'+str(l)], parameters['b'+str(l)])\n",
        "        activation_cache = (z)\n",
        "        cache = (linear_cache, activation_cache)\n",
        "        input_vec = y\n",
        "        caches.append(cache)\n",
        "    a = input_vec\n",
        "        \n",
        "    return a, caches\n",
        "\n",
        "def backward_propagation(AL, Y, cache, activations, loss_type):\n",
        "    \n",
        "    Y = Y.reshape(np.shape(AL))\n",
        "    L = len(cache)\n",
        "    gradient = {}\n",
        "    \n",
        "    loss_type = loss_type.lower()\n",
        "    if loss_type == 'cross_entropy' or loss_type == 'ce':\n",
        "        if activations[-1] == 'softmax':\n",
        "             gradient['dA'+str(L-1)], gradient['dW'+str(L)], gradient['db'+str(L)] = \\\n",
        "                activation_backward_softmax(AL, Y, cache[L-1], loss_type)\n",
        "        else:\n",
        "            dAL = CE_backward(AL, Y)\n",
        "            gradient['dA'+str(L-1)], gradient['dW'+str(L)], gradient['db'+str(L)] = \\\n",
        "               activation_backward(dAL, cache[L-1], activations[-1])\n",
        "    elif loss_type == 'binary_cross_entropy' or loss_type == 'bce':\n",
        "        if activations[-1] == 'softmax':\n",
        "             gradient['dA'+str(L-1)], gradient['dW'+str(L)], gradient['db'+str(L)] = \\\n",
        "                activation_backward_softmax(AL, Y, cache[L-1], loss_type)\n",
        "        else:\n",
        "            dAL = BCE_backward(AL, Y)\n",
        "            gradient['dA'+str(L-1)], gradient['dW'+str(L)], gradient['db'+str(L)] = \\\n",
        "               activation_backward(dAL, cache[L-1], activations[-1])\n",
        "    else:\n",
        "        raise NotImplementedError('Undefined cost function')\n",
        "        \n",
        "    #gradient['dA'+str(L-1)], gradient['dW'+str(L)], gradient['db'+str(L)] = \n",
        "    #    activation_backward(dAL, cache[L-1], activations[-1])\n",
        "    \n",
        "    for l in range(L-1, 0, -1):\n",
        "        current_cache = cache[l-1]\n",
        "        gradient['dA'+str(l-1)], gradient['dW'+str(l)], gradient['db'+str(l)] = \\\n",
        "            activation_backward(gradient['dA'+str(l)], current_cache, activations[l-1])\n",
        "    \n",
        "    return gradient"
      ],
      "execution_count": null,
      "outputs": []
    },
    {
      "cell_type": "markdown",
      "metadata": {
        "id": "afRWOySbqKSo"
      },
      "source": [
        "make minibatch"
      ]
    },
    {
      "cell_type": "code",
      "metadata": {
        "colab": {
          "background_save": true
        },
        "id": "DF0hpKeAqCVG"
      },
      "source": [
        "def make_mini_batches(batch_size, N):\n",
        "    minibatches = np.random.randint(0, N, batch_size)\n",
        "    return minibatches"
      ],
      "execution_count": null,
      "outputs": []
    },
    {
      "cell_type": "markdown",
      "metadata": {
        "id": "Fc2bbVL_p28W"
      },
      "source": [
        "##GD"
      ]
    },
    {
      "cell_type": "code",
      "metadata": {
        "colab": {
          "background_save": true
        },
        "id": "fL6qQl5yp2k0"
      },
      "source": [
        "def update_parameters_with_gd(parameters, grads, learning_rate):\n",
        "    \n",
        "    L = len(parameters) // 2\n",
        "    \n",
        "    for l in range(1, L+1):\n",
        "        parameters['W'+str(l)] -= learning_rate * grads['dW'+str(l)]\n",
        "        parameters['b'+str(l)] -= learning_rate * grads['db'+str(l)]\n",
        "    \n",
        "    return parameters"
      ],
      "execution_count": null,
      "outputs": []
    },
    {
      "cell_type": "markdown",
      "metadata": {
        "id": "gDQnK2HxpxMT"
      },
      "source": [
        "##adam"
      ]
    },
    {
      "cell_type": "code",
      "metadata": {
        "colab": {
          "background_save": true
        },
        "id": "pn-AksFJp1NB"
      },
      "source": [
        "def initialize_adam(parameters) :\n",
        "    \n",
        "    return adam_parameters\n",
        "\n",
        "def update_parameters_with_adam(parameters, grads, adam_parameters, learning_rate,\n",
        "                                beta1 = 0.9, beta2 = 0.999,  epsilon = 1e-8):\n",
        "\n",
        "    L = len(parameters) // 2\n",
        "    num_updates = 0\n",
        "    \n",
        "    for l in range(1, L+1):\n",
        "        \n",
        "        num_updates += 1\n",
        "        \n",
        "        adam_parameters['sw'+str(l)] = beta1 * adam_parameters['sw'+str(l)] + (1 - beta1) * grads['dW'+str(l)]\n",
        "        adam_parameters['sb'+str(l)] = beta1 * adam_parameters['sb'+str(l)] + (1 - beta1) * grads['db'+str(l)]\n",
        "        adam_parameters['rw'+str(l)] = beta2 * adam_parameters['rw'+str(l)] + (1 - beta2) * (grads['dW'+str(l)] ** 2)\n",
        "        adam_parameters['rb'+str(l)] = beta2 * adam_parameters['rb'+str(l)] + (1 - beta2) * (grads['db'+str(l)] ** 2)\n",
        "        \n",
        "        sw_hat = adam_parameters['sw'+str(l)] / (1 - np.power(beta1, num_updates))\n",
        "        rw_hat = adam_parameters['rw'+str(l)] / (1 - np.power(beta2, num_updates))\n",
        "        parameters['W'+str(l)] -= (learning_rate / np.sqrt(rw_hat+epsilon))*sw_hat\n",
        "        \n",
        "        sb_hat = adam_parameters['sb'+str(l)] / (1 - np.power(beta1, num_updates))\n",
        "        rb_hat = adam_parameters['rb'+str(l)] / (1 - np.power(beta2, num_updates))\n",
        "        parameters['b'+str(l)] -= (learning_rate / np.sqrt(rb_hat+epsilon))*sb_hat   \n",
        "    \n",
        "    return parameters, adam_parameters"
      ],
      "execution_count": null,
      "outputs": []
    },
    {
      "cell_type": "markdown",
      "metadata": {
        "id": "mUM6If62VsIF"
      },
      "source": [
        "# Normal Training:"
      ]
    },
    {
      "cell_type": "code",
      "metadata": {
        "colab": {
          "background_save": true
        },
        "id": "w-DJzp60-_ig"
      },
      "source": [
        "class VanilaNN(object):\n",
        "    \"\"\"\n",
        "    naive implemetation of Neural Network with desired layers and activations.\n",
        "    \"\"\"\n",
        "    def __init__(self, layers_def={1:{\"type\":\"fc\",\"units\":64,\"activation\":\"sigmoid\"},\n",
        "                                     2:{\"type\":\"fc\",\"units\":128,\"activation\":\"sigmoid\"},\n",
        "                                     3:{\"type\":\"fc\",\"units\":24,\"activation\":\"softmax\"}\n",
        "                                    },loss=\"cross_entropy\", optimizer='adam', optimizer_parameters={'beta1':0.9,'beta2':0.999,'epsilon':1e-8}):\n",
        "        self.loss = loss\n",
        "        self.optimizer = optimizer\n",
        "        self.optimizer_parameters = optimizer_parameters\n",
        "        self.adam_parameters = {}\n",
        "        self.layer_parameters = {}\n",
        "        self.activations = []\n",
        "        self.units = []\n",
        "        \n",
        "        for key in layers_def:\n",
        "            l = layers_def[key]\n",
        "            self.units.append(l['units'])\n",
        "            self.activations.append(l['activation'])\n",
        "        \n",
        "    def train(self,X, Y,X_val, Y_val, learning_rate = 0.001, batch_size = 64, num_epochs = 24,print_cost = True):\n",
        "        N = np.shape(X)[1]\n",
        "        \n",
        "        #initialize layers' parameters\n",
        "        L = len(self.units)\n",
        "        input_dim = np.shape(X)[0]\n",
        "        for i in range(L):\n",
        "            w, b = initialize_parameters(self.units[i], input_dim)\n",
        "            self.layer_parameters['W'+str(i+1)] = w\n",
        "            self.layer_parameters['b'+str(i+1)] = b\n",
        "            if self.optimizer == 'adam':\n",
        "                self.adam_parameters['sw'+str(i+1)] = np.zeros_like(w)\n",
        "                self.adam_parameters['sb'+str(i+1)] = np.zeros_like(b)\n",
        "                self.adam_parameters['rw'+str(i+1)] = np.zeros_like(w)\n",
        "                self.adam_parameters['rb'+str(i+1)] = np.zeros_like(b)\n",
        "            input_dim = self.units[i]\n",
        "        \n",
        "        train_loss_hist = []\n",
        "        train_acc_hist = []\n",
        "        val_loss_hist = []\n",
        "        val_acc_hist = []\n",
        "        \n",
        "        \n",
        "        # Optimization loop\n",
        "        for i in range(num_epochs):\n",
        "            \n",
        "            train_loss = 0\n",
        "            # get random minibatches indices.\n",
        "            minibatches = make_mini_batches(batch_size, N)\n",
        "            minibatch_grads = {}\n",
        "            for minibatch in minibatches:\n",
        "                # Select a minibatch\n",
        "                minibatch_X = X[:,minibatch]\n",
        "                minibatch_Y = Y[:,minibatch]\n",
        "                # Forward propagation\n",
        "                a, caches = forward_propagation(minibatch_X, self.layer_parameters, self.activations)\n",
        "                \n",
        "                # Compute cost\n",
        "                cost = compute_cost(a, minibatch_Y, self.loss)   \n",
        "                \n",
        "                # Backward propagation\n",
        "                grads = backward_propagation(a, minibatch_Y, caches, self.activations, self.loss)\n",
        "                \n",
        "                # Update parameters\n",
        "                if self.optimizer == \"sgd\":\n",
        "                    self.layer_parameters = update_parameters_with_gd(self.layer_parameters, grads, learning_rate)\n",
        "                elif self.optimizer == \"adam\":\n",
        "                    self.layer_parameters, self.adam_parameters = update_parameters_with_adam(\n",
        "                        self.layer_parameters, grads, self.adam_parameters, learning_rate,\n",
        "                        self.optimizer_parameters['beta1'], self.optimizer_parameters['beta2'],\n",
        "                        self.optimizer_parameters['epsilon'])\n",
        "                else:\n",
        "                  raise NotImplementedError('Undefined optimizer')\n",
        "                \n",
        "                \n",
        "                train_loss += cost\n",
        "            \n",
        "            train_loss_hist.append(train_loss/batch_size)\n",
        "            train_acc_hist.append(1-train_loss/batch_size)\n",
        "            \n",
        "            test_acc, test_loss = self.evaluate(X_val, Y_val, 1)\n",
        "            val_acc_hist.append(test_acc)\n",
        "            val_loss_hist.append(test_loss)                       \n",
        "\n",
        "        history = {'loss_train': train_loss_hist,\n",
        "                   'loss_val': val_loss_hist,\n",
        "                   'accuracy_train': train_acc_hist,\n",
        "                   'accuracy_val': val_acc_hist}\n",
        "        return history\n",
        "    \n",
        "    def evaluate(self, x_test, y_test,batch_size):\n",
        "        \"\"\"\n",
        "        Arguments:\n",
        "          x_test: input data, of shape (features, N)\n",
        "          y_test : true label (num_classes, N)\n",
        "        returns:\n",
        "          acc, cost\n",
        "        \"\"\"\n",
        "        N = x_test.shape[1]\n",
        "        cost = 0\n",
        "        \n",
        "        for i in range(N):\n",
        "            a, _ = forward_propagation(x_test[:, i], self.layer_parameters, self.activations)\n",
        "            cost += compute_cost(a, y_test[:, i], self.loss)/N\n",
        "        acc = 1 - cost\n",
        "        \n",
        "        return acc, cost\n",
        "    def predict(self, x_test, batch_size=512):\n",
        "        \"\"\"\n",
        "        Arguments:\n",
        "          x_test: input data, of shape (features, N)\n",
        "        returns:\n",
        "          predicted values\n",
        "        \"\"\"\n",
        "        N = x_test.shape[1]\n",
        "        predictions = []\n",
        "        \n",
        "        for i in range(N):\n",
        "            test_vec = x_test[:, i]\n",
        "            a, _ = forward_propagation(test_vec, self.layer_parameters, self.activations)\n",
        "            if self.activations[-1] != 'linear':\n",
        "                y_hat = (a >= 0.5) * 1\n",
        "            else:\n",
        "                y_hat = (a > 0) * 1\n",
        "            predictions.append(y_hat)            \n",
        "                \n",
        "        return predictions"
      ],
      "execution_count": null,
      "outputs": []
    },
    {
      "cell_type": "code",
      "metadata": {
        "id": "NuiLar2sQGj3",
        "scrolled": true
      },
      "source": [
        "model = VanilaNN(layers_def={1:{\"type\":\"fc\",\"units\":64,\"activation\":\"relu\"},\n",
        "                                    # 2:{\"type\":\"fc\",\"units\":128,\"activation\":\"relu\"},\n",
        "                                     2:{\"type\":\"fc\",\"units\":24,\"activation\":\"softmax\"}\n",
        "                                    }, optimizer='sgd', loss='cross_entropy')\n",
        "history = model.train(X_train.T, Y_train.T, X_val.T, Y_val.T, learning_rate=1, num_epochs=200)"
      ],
      "execution_count": null,
      "outputs": []
    },
    {
      "cell_type": "markdown",
      "metadata": {
        "id": "mj_ce4WGdVnU"
      },
      "source": [
        "## Evaluate model:"
      ]
    },
    {
      "cell_type": "code",
      "metadata": {
        "colab": {
          "base_uri": "https://localhost:8080/"
        },
        "id": "uAk8EqPzdVnU",
        "outputId": "de1b3e45-773e-454d-f33d-84810188e86f"
      },
      "source": [
        "batch_size = 64\n",
        "test_acc, test_loss = model.evaluate(x_test, y_test,batch_size)\n",
        "print(\"Accuracy = %2.2f, Loss = %2.4f\"%(test_acc, test_loss))"
      ],
      "execution_count": null,
      "outputs": [
        {
          "name": "stdout",
          "output_type": "stream",
          "text": [
            "Accuracy = 0.96, Loss = 0.0384\n"
          ]
        }
      ]
    },
    {
      "cell_type": "markdown",
      "metadata": {
        "id": "8q9Xrn5LdVnT"
      },
      "source": [
        "## plot training history:"
      ]
    },
    {
      "cell_type": "code",
      "metadata": {
        "colab": {
          "base_uri": "https://localhost:8080/",
          "height": 545
        },
        "id": "SFXg5l6UUdH3",
        "outputId": "5fcda460-3904-4c6d-a54f-0d98db7eeba8"
      },
      "source": [
        "# plot loss\n",
        "plt.plot(history['loss_train'],'', history['loss_val'],'-')\n",
        "plt.title('Loss')\n",
        "plt.legend(['train','val'])\n",
        "plt.show()\n",
        "\n",
        "# plot accuracy\n",
        "plt.plot(history['accuracy_train'],'', history['accuracy_val'],'-')\n",
        "plt.title('Accuracy')\n",
        "plt.legend(['train','val'])\n",
        "plt.show()"
      ],
      "execution_count": null,
      "outputs": [
        {
          "data": {
            "image/png": "[encoded data removed]",
            "text/plain": [
              "<Figure size 432x288 with 1 Axes>"
            ]
          },
          "metadata": {},
          "output_type": "display_data"
        },
        {
          "data": {
            "image/png": "[encoded data removed]",
            "text/plain": [
              "<Figure size 432x288 with 1 Axes>"
            ]
          },
          "metadata": {},
          "output_type": "display_data"
        }
      ]
    },
    {
      "cell_type": "code",
      "metadata": {
        "colab": {
          "base_uri": "https://localhost:8080/"
        },
        "id": "__AVgnqYUFsh",
        "outputId": "3a4444b0-fe66-4781-fd0f-e2cc0dea9b23"
      },
      "source": [
        "# make a prediction:\n",
        "# ALL NUM OF TEST = 7172\n",
        "n = 2\n",
        "prediction = model.predict(x_test[:,n:n+1])\n",
        "print('prediction: ', prediction[0], \" true label: \",y_test[:, n])"
      ],
      "execution_count": null,
      "outputs": [
        {
          "name": "stdout",
          "output_type": "stream",
          "text": [
            "prediction:  [0 0 0 0 0 0 0 0 0 1 0 0 0 0 0 0 0 0 0 0 0 0 0 0]  true label:  [0. 0. 0. 0. 0. 0. 0. 0. 0. 1. 0. 0. 0. 0. 0. 0. 0. 0. 0. 0. 0. 0. 0. 0.]\n"
          ]
        }
      ]
    },
    {
      "cell_type": "markdown",
      "metadata": {
        "id": "FUaQfqkEGD9x"
      },
      "source": [
        "#Using tensor board"
      ]
    },
    {
      "cell_type": "code",
      "metadata": {
        "id": "j2_iOMz7KWwe"
      },
      "source": [
        "%load_ext tensorboard\n",
        "# Import SummaryWriter\n",
        "from torch.utils.tensorboard import SummaryWriter\n",
        "\n",
        "# Create a SummaryWriter instance\n",
        "# SummaryWriter writes event files to log_dir\n",
        "log_dir = \"logs\"\n",
        "writer = SummaryWriter(log_dir)"
      ],
      "execution_count": null,
      "outputs": []
    },
    {
      "cell_type": "code",
      "metadata": {
        "id": "uIVmNvqpeYLC"
      },
      "source": [
        "def forward_propagation(X, parameters, activations):\n",
        "    caches = []\n",
        "    input_vec = X\n",
        "    L = len(parameters) // 2\n",
        "    \n",
        "    for l in range(1, L+1):\n",
        "        z = np.matmul(parameters['W'+str(l)], input_vec) + parameters['b'+str(l)]\n",
        "        y = activate(activations[l-1], z)\n",
        "        linear_cache = (input_vec, parameters['W'+str(l)], parameters['b'+str(l)])\n",
        "        activation_cache = (z)\n",
        "        cache = (linear_cache, activation_cache)\n",
        "        input_vec = y\n",
        "        caches.append(cache)\n",
        "    a = input_vec\n",
        "        \n",
        "    return a, caches, z\n",
        "\n",
        "def backward_propagation(AL, Y, cache, activations, loss_type):\n",
        "    \n",
        "    Y = Y.reshape(np.shape(AL))\n",
        "    L = len(cache)\n",
        "    gradient = {}\n",
        "    \n",
        "    loss_type = loss_type.lower()\n",
        "    if loss_type == 'cross_entropy' or loss_type == 'ce':\n",
        "        if activations[-1] == 'softmax':\n",
        "             gradient['dA'+str(L-1)], gradient['dW'+str(L)], gradient['db'+str(L)] = \\\n",
        "                activation_backward_softmax(AL, Y, cache[L-1], loss_type)\n",
        "        else:\n",
        "            dAL = CE_backward(AL, Y)\n",
        "            gradient['dA'+str(L-1)], gradient['dW'+str(L)], gradient['db'+str(L)] = \\\n",
        "               activation_backward(dAL, cache[L-1], activations[-1])\n",
        "    elif loss_type == 'binary_cross_entropy' or loss_type == 'bce':\n",
        "        if activations[-1] == 'softmax':\n",
        "             gradient['dA'+str(L-1)], gradient['dW'+str(L)], gradient['db'+str(L)] = \\\n",
        "                activation_backward_softmax(AL, Y, cache[L-1], loss_type)\n",
        "        else:\n",
        "            dAL = BCE_backward(AL, Y)\n",
        "            gradient['dA'+str(L-1)], gradient['dW'+str(L)], gradient['db'+str(L)] = \\\n",
        "               activation_backward(dAL, cache[L-1], activations[-1])\n",
        "    else:\n",
        "        raise NotImplementedError('Undefined cost function')\n",
        "        \n",
        "    #gradient['dA'+str(L-1)], gradient['dW'+str(L)], gradient['db'+str(L)] = \n",
        "    #    activation_backward(dAL, cache[L-1], activations[-1])\n",
        "    \n",
        "    for l in range(L-1, 0, -1):\n",
        "        current_cache = cache[l-1]\n",
        "        gradient['dA'+str(l-1)], gradient['dW'+str(l)], gradient['db'+str(l)] = \\\n",
        "            activation_backward(gradient['dA'+str(l)], current_cache, activations[l-1])\n",
        "    \n",
        "    return gradient"
      ],
      "execution_count": null,
      "outputs": []
    },
    {
      "cell_type": "code",
      "metadata": {
        "id": "wpN543LgBRjh"
      },
      "source": [
        "class VanilaNN(object):\n",
        "    \"\"\"\n",
        "    naive implemetation of Neural Network with desired layers and activations.\n",
        "    \"\"\"\n",
        "    def __init__(self, layers_def={1:{\"type\":\"fc\",\"units\":64,\"activation\":\"sigmoid\"},\n",
        "                                     2:{\"type\":\"fc\",\"units\":128,\"activation\":\"sigmoid\"},\n",
        "                                     3:{\"type\":\"fc\",\"units\":24,\"activation\":\"softmax\"}\n",
        "                                    },loss=\"cross_entropy\", optimizer='adam', optimizer_parameters={'beta1':0.9,'beta2':0.999,'epsilon':1e-8}):\n",
        "        self.loss = loss\n",
        "        self.optimizer = optimizer\n",
        "        self.optimizer_parameters = optimizer_parameters\n",
        "        self.adam_parameters = {}\n",
        "        self.layer_parameters = {}\n",
        "        self.activations = []\n",
        "        self.units = []\n",
        "        \n",
        "        for key in layers_def:\n",
        "            l = layers_def[key]\n",
        "            self.units.append(l['units'])\n",
        "            self.activations.append(l['activation'])\n",
        "        \n",
        "    def train(self,X, Y,X_val, Y_val, learning_rate = 0.001, batch_size = 64, num_epochs = 24,print_cost = True):\n",
        "        N = np.shape(X)[1]\n",
        "        \n",
        "        #initialize layers' parameters\n",
        "        L = len(self.units)\n",
        "        input_dim = np.shape(X)[0]\n",
        "\n",
        "        for i in range(L):\n",
        "            w, b = initialize_parameters(self.units[i], input_dim)\n",
        "\n",
        "            ##########################\n",
        "            #writer.add_histogram('distribution weights of layer', w + i, i)\n",
        "            ##########################\n",
        "\n",
        "            self.layer_parameters['W'+str(i+1)] = w\n",
        "            self.layer_parameters['b'+str(i+1)] = b\n",
        "            if self.optimizer == 'adam':\n",
        "                self.adam_parameters['sw'+str(i+1)] = np.zeros_like(w)\n",
        "                self.adam_parameters['sb'+str(i+1)] = np.zeros_like(b)\n",
        "                self.adam_parameters['rw'+str(i+1)] = np.zeros_like(w)\n",
        "                self.adam_parameters['rb'+str(i+1)] = np.zeros_like(b)\n",
        "            input_dim = self.units[i]\n",
        "        \n",
        "        train_loss_hist = []\n",
        "        train_acc_hist = []\n",
        "        val_loss_hist = []\n",
        "        val_acc_hist = []\n",
        "        \n",
        "        \n",
        "        # Optimization loop\n",
        "        for i in range(num_epochs):\n",
        "            \n",
        "            train_loss = 0\n",
        "            # get random minibatches indices.\n",
        "            minibatches = make_mini_batches(batch_size, N)\n",
        "            minibatch_grads = {}\n",
        "\n",
        "            for minibatch in minibatches:\n",
        "                # Select a minibatch\n",
        "                minibatch_X = X[:,minibatch]\n",
        "                minibatch_Y = Y[:,minibatch]\n",
        "                # Forward propagation\n",
        "                a, caches,z= forward_propagation(minibatch_X, self.layer_parameters, self.activations)\n",
        "\n",
        "                ###############################################################\n",
        "                #Tensorboard\n",
        "                writer.add_histogram('distribution weights of layer', z + i, i)\n",
        "                ###############################################################\n",
        "\n",
        "\n",
        "                # Compute cost\n",
        "                cost = compute_cost(a, minibatch_Y, self.loss)         \n",
        "                \n",
        "                # Backward propagation\n",
        "                grads = backward_propagation(a, minibatch_Y, caches, self.activations, self.loss)\n",
        "                # Update parameters\n",
        "                if self.optimizer == \"sgd\":\n",
        "                    self.layer_parameters = update_parameters_with_gd(self.layer_parameters, grads, learning_rate)\n",
        "                elif self.optimizer == \"adam\":\n",
        "                    self.layer_parameters, self.adam_parameters = update_parameters_with_adam(\n",
        "                        self.layer_parameters, grads, self.adam_parameters, learning_rate,\n",
        "                        self.optimizer_parameters['beta1'], self.optimizer_parameters['beta2'],\n",
        "                        self.optimizer_parameters['epsilon'])\n",
        "                else:\n",
        "                  raise NotImplementedError('Undefined optimizer')\n",
        "\n",
        "                train_loss += cost     \n",
        "\n",
        "\n",
        "            train_loss_hist.append(train_loss/batch_size)\n",
        "            train_acc_hist.append(1-train_loss/batch_size)\n",
        "            #####################################\n",
        "            #Tensorboard\n",
        "            # Load TensorBoard notebook extension\n",
        "            writer.add_scalar('train_loss', train_loss/batch_size,num_epochs)  # value:train_loss_hist step:num_epochs\n",
        "            writer.add_scalar('train_acc', 1-train_loss/batch_size,num_epochs)\n",
        "            ######################################       \n",
        "\n",
        "\n",
        "            test_acc, test_loss = self.evaluate(X_val, Y_val, 1)\n",
        "            #####################################################\n",
        "            # Tensorboard\n",
        "            # Load TensorBoard notebook extension\n",
        "            writer.add_scalar('val_loss', test_loss,num_epochs*200)\n",
        "            writer.add_scalar('val_acc', test_acc,num_epochs*200)   \n",
        "            #####################################################\n",
        "\n",
        "            val_acc_hist.append(test_acc)\n",
        "            val_loss_hist.append(test_loss)  \n",
        "\n",
        "            # Once you are done, close the writer\n",
        "            writer.close()\n",
        "\n",
        "        # Start Tensorboard to see what's written\n",
        "        %tensorboard --logdir=logs\n",
        "\n",
        "        history = {'loss_train': train_loss_hist,\n",
        "                   'loss_val': val_loss_hist,\n",
        "                   'accuracy_train': train_acc_hist,\n",
        "                   'accuracy_val': val_acc_hist}\n",
        "        return history\n",
        "    \n",
        "    def evaluate(self, x_test, y_test,batch_size):\n",
        "        N = x_test.shape[1]\n",
        "        cost = 0\n",
        "        \n",
        "        for i in range(N):\n",
        "            a, _,z = forward_propagation(x_test[:, i], self.layer_parameters, self.activations)\n",
        "            cost += compute_cost(a, y_test[:, i], self.loss)/N\n",
        "        acc = 1 - cost\n",
        "        \n",
        "        return acc, cost\n",
        "    def predict(self, x_test, batch_size=512):\n",
        "        N = x_test.shape[1]\n",
        "        predictions = []\n",
        "        \n",
        "        for i in range(N):\n",
        "            test_vec = x_test[:, i]\n",
        "            a, _ = forward_propagation(test_vec, self.layer_parameters, self.activations)\n",
        "            if self.activations[-1] != 'linear':\n",
        "                y_hat = (a >= 0.5) * 1\n",
        "            else:\n",
        "                y_hat = (a > 0) * 1\n",
        "            predictions.append(y_hat)            \n",
        "                \n",
        "        return predictions"
      ],
      "execution_count": null,
      "outputs": []
    },
    {
      "cell_type": "code",
      "metadata": {
        "colab": {
          "base_uri": "https://localhost:8080/",
          "height": 34
        },
        "id": "nIejHwzxK_xU",
        "scrolled": true,
        "outputId": "6f7a09bb-068e-428b-d9a8-02cd42927763"
      },
      "source": [
        "model = VanilaNN(layers_def={1:{\"type\":\"fc\",\"units\":64,\"activation\":\"relu\"},\n",
        "                                     2:{\"type\":\"fc\",\"units\":128,\"activation\":\"relu\"},\n",
        "                                     3:{\"type\":\"fc\",\"units\":24,\"activation\":\"softmax\"}\n",
        "                                    }, optimizer='sgd', loss='cross_entropy')\n",
        "history = model.train(X_train.T, Y_train.T, X_val.T, Y_val.T, learning_rate=1, num_epochs=200)"
      ],
      "execution_count": null,
      "outputs": [
        {
          "output_type": "display_data",
          "data": {
            "text/plain": [
              "Reusing TensorBoard on port 6006 (pid 739), started 3:09:13 ago. (Use '!kill 739' to kill it.)"
            ]
          },
          "metadata": {}
        },
        {
          "output_type": "display_data",
          "data": {
            "text/html": [
              "\n",
              "    <div id=\"root\"></div>\n",
              "    <script>\n",
              "      (function() {\n",
              "        window.TENSORBOARD_ENV = window.TENSORBOARD_ENV || {};\n",
              "        window.TENSORBOARD_ENV[\"IN_COLAB\"] = true;\n",
              "        document.querySelector(\"base\").href = \"https://localhost:6006\";\n",
              "        function fixUpTensorboard(root) {\n",
              "          const tftb = root.querySelector(\"tf-tensorboard\");\n",
              "          // Disable the fragment manipulation behavior in Colab. Not\n",
              "          // only is the behavior not useful (as the iframe's location\n",
              "          // is not visible to the user), it causes TensorBoard's usage\n",
              "          // of `window.replace` to navigate away from the page and to\n",
              "          // the `localhost:<port>` URL specified by the base URI, which\n",
              "          // in turn causes the frame to (likely) crash.\n",
              "          tftb.removeAttribute(\"use-hash\");\n",
              "        }\n",
              "        function executeAllScripts(root) {\n",
              "          // When `script` elements are inserted into the DOM by\n",
              "          // assigning to an element's `innerHTML`, the scripts are not\n",
              "          // executed. Thus, we manually re-insert these scripts so that\n",
              "          // TensorBoard can initialize itself.\n",
              "          for (const script of root.querySelectorAll(\"script\")) {\n",
              "            const newScript = document.createElement(\"script\");\n",
              "            newScript.type = script.type;\n",
              "            newScript.textContent = script.textContent;\n",
              "            root.appendChild(newScript);\n",
              "            script.remove();\n",
              "          }\n",
              "        }\n",
              "        function setHeight(root, height) {\n",
              "          // We set the height dynamically after the TensorBoard UI has\n",
              "          // been initialized. This avoids an intermediate state in\n",
              "          // which the container plus the UI become taller than the\n",
              "          // final width and cause the Colab output frame to be\n",
              "          // permanently resized, eventually leading to an empty\n",
              "          // vertical gap below the TensorBoard UI. It's not clear\n",
              "          // exactly what causes this problematic intermediate state,\n",
              "          // but setting the height late seems to fix it.\n",
              "          root.style.height = `${height}px`;\n",
              "        }\n",
              "        const root = document.getElementById(\"root\");\n",
              "        fetch(\".\")\n",
              "          .then((x) => x.text())\n",
              "          .then((html) => void (root.innerHTML = html))\n",
              "          .then(() => fixUpTensorboard(root))\n",
              "          .then(() => executeAllScripts(root))\n",
              "          .then(() => setHeight(root, 800));\n",
              "      })();\n",
              "    </script>\n",
              "  "
            ],
            "text/plain": [
              "<IPython.core.display.HTML object>"
            ]
          },
          "metadata": {}
        }
      ]
    },
    {
      "cell_type": "markdown",
      "metadata": {
        "id": "xkHH80kQGw9_"
      },
      "source": [
        "## Evaluate model:"
      ]
    },
    {
      "cell_type": "code",
      "metadata": {
        "colab": {
          "base_uri": "https://localhost:8080/"
        },
        "id": "wOSO8y1nGw-A",
        "outputId": "e8416f0b-e696-474e-ddf3-178ebf09aabc"
      },
      "source": [
        "batch_size = 64\n",
        "test_acc, test_loss = model.evaluate(x_test, y_test,batch_size)\n",
        "print(\"Accuracy = %2.2f, Loss = %2.4f\"%(test_acc, test_loss))"
      ],
      "execution_count": null,
      "outputs": [
        {
          "name": "stdout",
          "output_type": "stream",
          "text": [
            "Accuracy = 0.94, Loss = 0.0575\n"
          ]
        }
      ]
    },
    {
      "cell_type": "markdown",
      "metadata": {
        "id": "fKrlEfapGw-A"
      },
      "source": [
        "## plot training history:"
      ]
    },
    {
      "cell_type": "code",
      "metadata": {
        "colab": {
          "base_uri": "https://localhost:8080/",
          "height": 545
        },
        "id": "h88Inod5Gw-B",
        "outputId": "a3ead991-fea8-486d-af43-9e19f36c7929"
      },
      "source": [
        "# plot loss\n",
        "plt.plot(history['loss_train'],'', history['loss_val'],'-')\n",
        "plt.title('Loss')\n",
        "plt.legend(['train','val'])\n",
        "plt.show()\n",
        "\n",
        "#some example\n",
        "new_testt = np.zeros((784,5))\n",
        "m=x_test[:,222:223]\n",
        "n=x_test[:,2685:2686]\n",
        "l=x_test[:,1023:1024]\n",
        "o=x_test[:,2201:2202]\n",
        "p=x_test[:,115:116]\n",
        "new_testt[:,0]=m[:,0]\n",
        "new_testt[:,1]=n[:,0]\n",
        "new_testt[:,2]=l[:,0]\n",
        "new_testt[:,3]=o[:,0]\n",
        "new_testt[:,4]=p[:,0]\n",
        "\n",
        "# plot accuracy\n",
        "plt.plot(history['accuracy_train'],'', history['accuracy_val'],'-')\n",
        "plt.title('Accuracy')\n",
        "plt.legend(['train','val'])\n",
        "plt.show()"
      ],
      "execution_count": null,
      "outputs": [
        {
          "data": {
            "image/png": "[encoded data removed]",
            "text/plain": [
              "<Figure size 432x288 with 1 Axes>"
            ]
          },
          "metadata": {},
          "output_type": "display_data"
        },
        {
          "data": {
            "image/png": "[encoded data removed]",
            "text/plain": [
              "<Figure size 432x288 with 1 Axes>"
            ]
          },
          "metadata": {},
          "output_type": "display_data"
        }
      ]
    },
    {
      "cell_type": "markdown",
      "metadata": {
        "id": "AByBZtSsWd3Y"
      },
      "source": [
        "#Training by Drop out\n",
        "Line 32"
      ]
    },
    {
      "cell_type": "code",
      "metadata": {
        "id": "hKtb1-DRiisL"
      },
      "source": [
        "def forward_propagation(X, parameters, activations):\n",
        "    caches = []\n",
        "    input_vec = X\n",
        "    L = len(parameters) // 2\n",
        "    \n",
        "    for l in range(1, L+1):\n",
        "        z = np.matmul(parameters['W'+str(l)], input_vec) + parameters['b'+str(l)]\n",
        "        y = activate(activations[l-1], z)\n",
        "        linear_cache = (input_vec, parameters['W'+str(l)], parameters['b'+str(l)])\n",
        "        activation_cache = (z)\n",
        "        cache = (linear_cache, activation_cache)\n",
        "        input_vec = y\n",
        "        caches.append(cache)\n",
        "    a = input_vec\n",
        "        \n",
        "    return a, caches\n",
        "\n",
        "def backward_propagation(AL, Y, cache, activations, loss_type):\n",
        "    \n",
        "    Y = Y.reshape(np.shape(AL))\n",
        "    L = len(cache)\n",
        "    gradient = {}\n",
        "    \n",
        "    loss_type = loss_type.lower()\n",
        "    if loss_type == 'cross_entropy' or loss_type == 'ce':\n",
        "        if activations[-1] == 'softmax':\n",
        "             gradient['dA'+str(L-1)], gradient['dW'+str(L)], gradient['db'+str(L)] = \\\n",
        "                activation_backward_softmax(AL, Y, cache[L-1], loss_type)\n",
        "        else:\n",
        "            dAL = CE_backward(AL, Y)\n",
        "            gradient['dA'+str(L-1)], gradient['dW'+str(L)], gradient['db'+str(L)] = \\\n",
        "               activation_backward(dAL, cache[L-1], activations[-1])\n",
        "    elif loss_type == 'binary_cross_entropy' or loss_type == 'bce':\n",
        "        if activations[-1] == 'softmax':\n",
        "             gradient['dA'+str(L-1)], gradient['dW'+str(L)], gradient['db'+str(L)] = \\\n",
        "                activation_backward_softmax(AL, Y, cache[L-1], loss_type)\n",
        "        else:\n",
        "            dAL = BCE_backward(AL, Y)\n",
        "            gradient['dA'+str(L-1)], gradient['dW'+str(L)], gradient['db'+str(L)] = \\\n",
        "               activation_backward(dAL, cache[L-1], activations[-1])\n",
        "    else:\n",
        "        raise NotImplementedError('Undefined cost function')\n",
        "        \n",
        "    #gradient['dA'+str(L-1)], gradient['dW'+str(L)], gradient['db'+str(L)] = \n",
        "    #    activation_backward(dAL, cache[L-1], activations[-1])\n",
        "    \n",
        "    for l in range(L-1, 0, -1):\n",
        "        current_cache = cache[l-1]\n",
        "        gradient['dA'+str(l-1)], gradient['dW'+str(l)], gradient['db'+str(l)] = \\\n",
        "            activation_backward(gradient['dA'+str(l)], current_cache, activations[l-1])\n",
        "    \n",
        "    return gradient"
      ],
      "execution_count": null,
      "outputs": []
    },
    {
      "cell_type": "code",
      "metadata": {
        "id": "vwmKa-ikdGiG"
      },
      "source": [
        "class VanilaNN(object):\n",
        "    \"\"\"\n",
        "    naive implemetation of Neural Network with desired layers and activations.\n",
        "    \"\"\"\n",
        "    def __init__(self, layers_def={1:{\"type\":\"fc\",\"units\":64,\"activation\":\"sigmoid\"},\n",
        "                                     2:{\"type\":\"fc\",\"units\":128,\"activation\":\"sigmoid\"},\n",
        "                                     3:{\"type\":\"fc\",\"units\":24,\"activation\":\"softmax\"}\n",
        "                                    },loss=\"cross_entropy\", optimizer='adam', optimizer_parameters={'beta1':0.9,'beta2':0.999,'epsilon':1e-8}):\n",
        "        self.loss = loss\n",
        "        self.optimizer = optimizer\n",
        "        self.optimizer_parameters = optimizer_parameters\n",
        "        self.adam_parameters = {}\n",
        "        self.layer_parameters = {}\n",
        "        self.activations = []\n",
        "        self.units = []\n",
        "        \n",
        "        for key in layers_def:\n",
        "            l = layers_def[key]\n",
        "            self.units.append(l['units'])\n",
        "            self.activations.append(l['activation'])\n",
        "        \n",
        "    def train(self,X, Y,X_val, Y_val, learning_rate = 0.001, batch_size = 64, num_epochs = 24,print_cost = True):\n",
        "        N = np.shape(X)[1]\n",
        "        \n",
        "        #initialize layers' parameters\n",
        "        L = len(self.units)\n",
        "        input_dim = np.shape(X)[0]\n",
        "        \n",
        "        for i in range(L):   \n",
        "          w, b = initialize_parameters(self.units[i], input_dim)\n",
        "\n",
        "          ######################################################\n",
        "          ################ Dropout #############################\n",
        "          if i==0:      \n",
        "            tf.nn.dropout(w,keep_prob=None,noise_shape=None,seed=None,name=None,rate=0.5)\n",
        "            tf.nn.dropout(b,keep_prob=None,noise_shape=None,seed=None,name=None,rate=0.5)\n",
        "          ########################################################\n",
        "          \n",
        "          self.layer_parameters['W'+str(i+1)] = w\n",
        "          self.layer_parameters['b'+str(i+1)] = b\n",
        "          if self.optimizer == 'adam':\n",
        "            self.adam_parameters['sw'+str(i+1)] = np.zeros_like(w)\n",
        "            self.adam_parameters['sb'+str(i+1)] = np.zeros_like(b)\n",
        "            self.adam_parameters['rw'+str(i+1)] = np.zeros_like(w)\n",
        "            self.adam_parameters['rb'+str(i+1)] = np.zeros_like(b)\n",
        "          input_dim = self.units[i]\n",
        "          # print(self.units[i])\n",
        "          # print('w=',np.shape(w))\n",
        "\n",
        "        train_loss_hist = []\n",
        "        train_acc_hist = []\n",
        "        val_loss_hist = []\n",
        "        val_acc_hist = []\n",
        "        \n",
        "        \n",
        "        # Optimization loop\n",
        "        for i in range(num_epochs):\n",
        "            \n",
        "            train_loss = 0\n",
        "            # get random minibatches indices.\n",
        "            minibatches = make_mini_batches(batch_size, N)\n",
        "            minibatch_grads = {}\n",
        "\n",
        "\n",
        "\n",
        "            for minibatch in minibatches:\n",
        "                # Select a minibatch\n",
        "                minibatch_X = X[:,minibatch]\n",
        "                minibatch_Y = Y[:,minibatch]\n",
        "                \n",
        "                # Forward propagation\n",
        "                a, caches = forward_propagation(minibatch_X, self.layer_parameters, self.activations)\n",
        "                \n",
        "                # Compute cost\n",
        "                cost = compute_cost(a, minibatch_Y, self.loss)\n",
        "                \n",
        "                \n",
        "                # Backward propagation\n",
        "                grads = backward_propagation(a, minibatch_Y, caches, self.activations, self.loss)\n",
        "                \n",
        "                \n",
        "                # Update parameters\n",
        "                if self.optimizer == \"sgd\":\n",
        "                    self.layer_parameters = update_parameters_with_gd(self.layer_parameters, grads, learning_rate)\n",
        "                elif self.optimizer == \"adam\":\n",
        "                    self.layer_parameters, self.adam_parameters = update_parameters_with_adam(\n",
        "                        self.layer_parameters, grads, self.adam_parameters, learning_rate,\n",
        "                        self.optimizer_parameters['beta1'], self.optimizer_parameters['beta2'],\n",
        "                        self.optimizer_parameters['epsilon'])\n",
        "                else:\n",
        "                  raise NotImplementedError('Undefined optimizer')\n",
        "                \n",
        "                \n",
        "                train_loss += cost           \n",
        "            \n",
        "            train_loss_hist.append(train_loss/batch_size)\n",
        "            train_acc_hist.append(1-train_loss/batch_size)\n",
        "            \n",
        "            test_acc, test_loss = self.evaluate(X_val, Y_val, 1)\n",
        "            val_acc_hist.append(test_acc)\n",
        "            val_loss_hist.append(test_loss)\n",
        "            \n",
        "\n",
        "        history = {'loss_train': train_loss_hist,\n",
        "                   'loss_val': val_loss_hist,\n",
        "                   'accuracy_train': train_acc_hist,\n",
        "                   'accuracy_val': val_acc_hist}\n",
        "        return history\n",
        "    \n",
        "    def evaluate(self, x_test, y_test,batch_size):\n",
        "        \"\"\"\n",
        "        Arguments:\n",
        "          x_test: input data, of shape (features, N)\n",
        "          y_test : true label (num_classes, N)\n",
        "        returns:\n",
        "          acc, cost\n",
        "        \"\"\"\n",
        "        N = x_test.shape[1]\n",
        "        cost = 0\n",
        "        \n",
        "        for i in range(N):\n",
        "            a, _ = forward_propagation(x_test[:, i], self.layer_parameters, self.activations)\n",
        "            cost += compute_cost(a, y_test[:, i], self.loss)/N\n",
        "        acc = 1 - cost\n",
        "        \n",
        "        return acc, cost\n",
        "    def predict(self, x_test, batch_size=512):\n",
        "        \"\"\"\n",
        "        Arguments:\n",
        "          x_test: input data, of shape (features, N)\n",
        "        returns:\n",
        "          predicted values\n",
        "        \"\"\"\n",
        "        N = x_test.shape[1]\n",
        "        predictions = []\n",
        "        \n",
        "        for i in range(N):\n",
        "            test_vec = x_test[:, i]\n",
        "            a, _ = forward_propagation(test_vec, self.layer_parameters, self.activations)\n",
        "            if self.activations[-1] != 'linear':\n",
        "                y_hat = (a >= 0.5) * 1\n",
        "            else:\n",
        "                y_hat = (a > 0) * 1\n",
        "            predictions.append(y_hat)            \n",
        "                \n",
        "        return predictions"
      ],
      "execution_count": null,
      "outputs": []
    },
    {
      "cell_type": "code",
      "metadata": {
        "id": "lAuuHwoCdGiG",
        "scrolled": true
      },
      "source": [
        "model = VanilaNN(layers_def={1:{\"type\":\"fc\",\"units\":64,\"activation\":\"relu\"},\n",
        "                                     #2:{\"type\":\"fc\",\"units\":128,\"activation\":\"relu\"},\n",
        "                                     2:{\"type\":\"fc\",\"units\":24,\"activation\":\"softmax\"}\n",
        "                                    }, optimizer='sgd', loss='cross_entropy')\n",
        "history = model.train(X_train.T, Y_train.T, X_val.T, Y_val.T, learning_rate=1, num_epochs=200)"
      ],
      "execution_count": null,
      "outputs": []
    },
    {
      "cell_type": "markdown",
      "metadata": {
        "id": "u3NwTXV95Rni"
      },
      "source": [
        "##Evaluate model"
      ]
    },
    {
      "cell_type": "code",
      "metadata": {
        "colab": {
          "base_uri": "https://localhost:8080/"
        },
        "id": "ewJUF2Yi5QUz",
        "outputId": "965ad03f-142a-4e2e-826f-32ff9dd6a5e8"
      },
      "source": [
        "batch_size = 64\n",
        "test_acc, test_loss = model.evaluate(x_test, y_test,batch_size)\n",
        "print(\"Accuracy = %2.2f, Loss = %2.4f\"%(test_acc, test_loss))"
      ],
      "execution_count": null,
      "outputs": [
        {
          "name": "stdout",
          "output_type": "stream",
          "text": [
            "Accuracy = 0.96, Loss = 0.0388\n"
          ]
        }
      ]
    },
    {
      "cell_type": "markdown",
      "metadata": {
        "id": "OIyUYMYx5J4H"
      },
      "source": [
        "## plot training and validation history:"
      ]
    },
    {
      "cell_type": "code",
      "metadata": {
        "colab": {
          "base_uri": "https://localhost:8080/",
          "height": 545
        },
        "id": "_eEgq0n85J4g",
        "outputId": "7b199505-e037-4f09-b399-3583a7046850"
      },
      "source": [
        "# plot loss\n",
        "plt.plot(history['loss_train'],'', history['loss_val'],'-')\n",
        "plt.title('Loss')\n",
        "plt.legend(['train','val'])\n",
        "plt.show()\n",
        "# plot accuracy\n",
        "plt.plot(history['accuracy_train'],'', history['accuracy_val'],'-')\n",
        "plt.title('Accuracy')\n",
        "plt.legend(['train','val'])\n",
        "plt.show()"
      ],
      "execution_count": null,
      "outputs": [
        {
          "data": {
            "image/png": "[encoded data removed]",
            "text/plain": [
              "<Figure size 432x288 with 1 Axes>"
            ]
          },
          "metadata": {},
          "output_type": "display_data"
        },
        {
          "data": {
            "image/png": "[encoded data removed]",
            "text/plain": [
              "<Figure size 432x288 with 1 Axes>"
            ]
          },
          "metadata": {},
          "output_type": "display_data"
        }
      ]
    },
    {
      "cell_type": "markdown",
      "metadata": {
        "id": "CllprFYJFj45"
      },
      "source": [
        "#Training by batch normalization\n",
        "line 57"
      ]
    },
    {
      "cell_type": "code",
      "metadata": {
        "id": "-OWDjvBcKRyI"
      },
      "source": [
        "class VanilaNN(object):\n",
        "    \"\"\"\n",
        "    naive implemetation of Neural Network with desired layers and activations.\n",
        "    \"\"\"\n",
        "    def __init__(self, layers_def={1:{\"type\":\"fc\",\"units\":64,\"activation\":\"sigmoid\"},\n",
        "                                     2:{\"type\":\"fc\",\"units\":128,\"activation\":\"sigmoid\"},\n",
        "                                     3:{\"type\":\"fc\",\"units\":24,\"activation\":\"softmax\"}\n",
        "                                    },loss=\"cross_entropy\", optimizer='adam', optimizer_parameters={'beta1':0.9,'beta2':0.999,'epsilon':1e-8}):\n",
        "        self.loss = loss\n",
        "        self.optimizer = optimizer\n",
        "        self.optimizer_parameters = optimizer_parameters\n",
        "        self.adam_parameters = {}\n",
        "        self.layer_parameters = {}\n",
        "        self.activations = []\n",
        "        self.units = []\n",
        "        \n",
        "        for key in layers_def:\n",
        "            l = layers_def[key]\n",
        "            self.units.append(l['units'])\n",
        "            self.activations.append(l['activation'])\n",
        "        \n",
        "    def train(self,X, Y,X_val, Y_val, learning_rate = 0.001, batch_size = 64, num_epochs = 24,print_cost = True):\n",
        "        N = np.shape(X)[1]\n",
        "        \n",
        "        #initialize layers' parameters\n",
        "        L = len(self.units)\n",
        "        input_dim = np.shape(X)[0]\n",
        "        \n",
        "        for i in range(L):   \n",
        "          w, b = initialize_parameters(self.units[i], input_dim)\n",
        "          self.layer_parameters['W'+str(i+1)] = w\n",
        "          self.layer_parameters['b'+str(i+1)] = b\n",
        "          if self.optimizer == 'adam':\n",
        "            self.adam_parameters['sw'+str(i+1)] = np.zeros_like(w)\n",
        "            self.adam_parameters['sb'+str(i+1)] = np.zeros_like(b)\n",
        "            self.adam_parameters['rw'+str(i+1)] = np.zeros_like(w)\n",
        "            self.adam_parameters['rb'+str(i+1)] = np.zeros_like(b)\n",
        "          input_dim = self.units[i]\n",
        "          # print(self.units[i])\n",
        "          # print('w=',np.shape(w))\n",
        "\n",
        "        train_loss_hist = []\n",
        "        train_acc_hist = []\n",
        "        val_loss_hist = []\n",
        "        val_acc_hist = []\n",
        "        \n",
        "        \n",
        "        # Optimization loop\n",
        "        for i in range(num_epochs):\n",
        "            \n",
        "            train_loss = 0\n",
        "            # get random minibatches indices.\n",
        "            minibatches = make_mini_batches(batch_size, N)\n",
        "            minibatch_grads = {}\n",
        "\n",
        "\n",
        "            ###################################################\n",
        "            #Batch normalization\n",
        "            new_minibatches_X = np.zeros((784,len(minibatches)))   \n",
        "            new_minibatches_Y = np.zeros((24,len(minibatches)))        \n",
        "            for i in range (len(minibatches)):\n",
        "                m = minibatches[i]\n",
        "                new_minibatches_X[:,i] = X[:,m] \n",
        "                new_minibatches_Y[:,i] = Y[:,m] \n",
        "            new_minibatches_X = new_minibatches_X - new_minibatches_X.mean(axis=0)\n",
        "            new_minibatches_X = new_minibatches_X / np.abs(new_minibatches_X).max(axis=0)\n",
        "            #print(np.shape(new_minibatches_X))\n",
        "            ###################################################\n",
        "\n",
        "\n",
        "            for minibatch in range(len(minibatches)):\n",
        "                # Select a minibatch\n",
        "                minibatch_X = new_minibatches_X[:,minibatch]\n",
        "                minibatch_Y = new_minibatches_Y[:,minibatch]\n",
        "\n",
        "                # Forward propagation\n",
        "                a, caches = forward_propagation(minibatch_X, self.layer_parameters, self.activations)\n",
        "                \n",
        "                # Compute cost\n",
        "                cost = compute_cost(a, minibatch_Y, self.loss)\n",
        "                \n",
        "                \n",
        "                # Backward propagation\n",
        "                grads = backward_propagation(a, minibatch_Y, caches, self.activations, self.loss)\n",
        "                \n",
        "                \n",
        "                # Update parameters\n",
        "                if self.optimizer == \"sgd\":\n",
        "                    self.layer_parameters = update_parameters_with_gd(self.layer_parameters, grads, learning_rate)\n",
        "                elif self.optimizer == \"adam\":\n",
        "                    self.layer_parameters, self.adam_parameters = update_parameters_with_adam(\n",
        "                        self.layer_parameters, grads, self.adam_parameters, learning_rate,\n",
        "                        self.optimizer_parameters['beta1'], self.optimizer_parameters['beta2'],\n",
        "                        self.optimizer_parameters['epsilon'])\n",
        "                else:\n",
        "                  raise NotImplementedError('Undefined optimizer')\n",
        "                \n",
        "                \n",
        "                train_loss += cost           \n",
        "            \n",
        "            train_loss_hist.append(train_loss/batch_size)\n",
        "            train_acc_hist.append(1-train_loss/batch_size)\n",
        "            \n",
        "            test_acc, test_loss = self.evaluate(X_val, Y_val, 1)\n",
        "            val_acc_hist.append(test_acc)\n",
        "            val_loss_hist.append(test_loss)\n",
        "            \n",
        "\n",
        "        history = {'loss_train': train_loss_hist,\n",
        "                   'loss_val': val_loss_hist,\n",
        "                   'accuracy_train': train_acc_hist,\n",
        "                   'accuracy_val': val_acc_hist}\n",
        "        return history\n",
        "    \n",
        "    def evaluate(self, x_test, y_test,batch_size):\n",
        "        N = x_test.shape[1]\n",
        "        cost = 0\n",
        "        \n",
        "        for i in range(N):\n",
        "            a, _ = forward_propagation(x_test[:, i], self.layer_parameters, self.activations)\n",
        "            cost += compute_cost(a, y_test[:, i], self.loss)/N\n",
        "        acc = 1 - cost \n",
        "        \n",
        "        return acc, cost\n",
        "    def predict(self, x_test, batch_size = 512):\n",
        "        N = x_test.shape[1]\n",
        "        predictions = []\n",
        "        \n",
        "        for i in range(N):\n",
        "            test_vec = x_test[:, i]\n",
        "            a, _ = forward_propagation(test_vec, self.layer_parameters, self.activations)\n",
        "            if self.activations[-1] != 'linear':\n",
        "                y_hat = (a >= 0.5) * 1\n",
        "            else:\n",
        "                y_hat = (a > 0) * 1\n",
        "            predictions.append(y_hat)            \n",
        "                \n",
        "        return predictions"
      ],
      "execution_count": null,
      "outputs": []
    },
    {
      "cell_type": "code",
      "metadata": {
        "id": "v29StYFnRasU"
      },
      "source": [
        "model = VanilaNN(layers_def={1:{\"type\":\"fc\",\"units\":64,\"activation\":\"relu\"},\n",
        "                                   #  2:{\"type\":\"fc\",\"units\":128,\"activation\":\"relu\"},\n",
        "                                     2:{\"type\":\"fc\",\"units\":24,\"activation\":\"softmax\"}\n",
        "                                    }, optimizer='sgd', loss='cross_entropy')\n",
        "history = model.train(X_train.T, Y_train.T, X_val.T, Y_val.T, learning_rate=0.5, num_epochs=200)"
      ],
      "execution_count": null,
      "outputs": []
    },
    {
      "cell_type": "markdown",
      "metadata": {
        "id": "X6T6NctaQtVZ"
      },
      "source": [
        "##Evaluate model"
      ]
    },
    {
      "cell_type": "code",
      "metadata": {
        "colab": {
          "base_uri": "https://localhost:8080/"
        },
        "id": "gJnKVm3AQtVa",
        "outputId": "4c492001-664c-4220-e772-bb91e6a314db"
      },
      "source": [
        "batch_size = 64\n",
        "test_acc, test_loss = model.evaluate(x_test, y_test,batch_size)\n",
        "print(\"Accuracy = %2.2f, Loss = %2.4f\"%(test_acc, test_loss))"
      ],
      "execution_count": null,
      "outputs": [
        {
          "name": "stdout",
          "output_type": "stream",
          "text": [
            "Accuracy = 0.96, Loss = 0.0428\n"
          ]
        }
      ]
    },
    {
      "cell_type": "markdown",
      "metadata": {
        "id": "n-M8JroWQtVa"
      },
      "source": [
        "## plot training history:"
      ]
    },
    {
      "cell_type": "code",
      "metadata": {
        "colab": {
          "base_uri": "https://localhost:8080/",
          "height": 545
        },
        "id": "fqZhLyjzQtVa",
        "outputId": "bf515a25-7974-4bf7-cfc3-d54d838ed977"
      },
      "source": [
        "# plot loss\n",
        "plt.plot(history['loss_train'],'', history['loss_val'],'-')\n",
        "plt.title('Loss')\n",
        "plt.legend(['train','val'])\n",
        "plt.show()\n",
        "# plot accuracy\n",
        "plt.plot(history['accuracy_train'],'', history['accuracy_val'],'-')\n",
        "plt.title('Accuracy')\n",
        "plt.legend(['train','val'])\n",
        "plt.show()"
      ],
      "execution_count": null,
      "outputs": [
        {
          "data": {
            "image/png": "[encoded data removed]",
            "text/plain": [
              "<Figure size 432x288 with 1 Axes>"
            ]
          },
          "metadata": {},
          "output_type": "display_data"
        },
        {
          "data": {
            "image/png": "[encoded data removed]",
            "text/plain": [
              "<Figure size 432x288 with 1 Axes>"
            ]
          },
          "metadata": {},
          "output_type": "display_data"
        }
      ]
    },
    {
      "cell_type": "markdown",
      "metadata": {
        "id": "pcj-iz9wk4y3"
      },
      "source": [
        "# Confusion matrix"
      ]
    },
    {
      "cell_type": "markdown",
      "metadata": {
        "id": "4oSiNULT8FLM"
      },
      "source": [
        "code marbut be ghesmate confusion matrix (ghesmate j ) baraye hamin shabake be surat mojaza dar file : \"Q1-version1-ConfusionMatrix\" gharar gerefte ast VA uniform sampling niz dar haman file anjam shode VA rahkare hale moshkele imbalanced dataset niz dar haman file dade shode ast."
      ]
    },
    {
      "cell_type": "markdown",
      "metadata": {
        "id": "0vR7RZkMgUMZ"
      },
      "source": [
        "#Web Cam"
      ]
    },
    {
      "cell_type": "code",
      "metadata": {
        "id": "ftmdgyYjr7wh"
      },
      "source": [
        "data_train = np.genfromtxt('/content/drive/My Drive/deep/HW1/Q1_train.csv', delimiter=',')\n",
        "data_train =data_train[1:,:]\n",
        "data_test = np.genfromtxt('/content/drive/My Drive/deep/HW1/Q1_test.csv', delimiter=',')\n",
        "data_test =data_test[1:,:]\n",
        "\n",
        "for i in range(data_train.shape[0]):\n",
        "   if data_train[i,0]>9 :\n",
        "     data_train[i,0]=data_train[i,0]-1\n",
        "\n",
        "for i in range(data_test.shape[0]):\n",
        "   if data_test[i,0]>9 :\n",
        "     data_test[i,0]=data_test[i,0]-1"
      ],
      "execution_count": null,
      "outputs": []
    },
    {
      "cell_type": "code",
      "metadata": {
        "colab": {
          "base_uri": "https://localhost:8080/"
        },
        "id": "L18TmA9Jr7wj",
        "outputId": "1f82287d-5554-4d64-c56c-96bcd385c9dc"
      },
      "source": [
        "print(np.shape(data_train))\n",
        "print(np.shape(data_test))"
      ],
      "execution_count": null,
      "outputs": [
        {
          "name": "stdout",
          "output_type": "stream",
          "text": [
            "(27455, 785)\n",
            "(7172, 785)\n"
          ]
        }
      ]
    },
    {
      "cell_type": "code",
      "metadata": {
        "colab": {
          "base_uri": "https://localhost:8080/"
        },
        "id": "pVhe9Tmrr7wk",
        "outputId": "f4795acf-b37e-4e37-ecb1-71cce99a96b0"
      },
      "source": [
        "data_train_withoutlabel = data_train[:,1:] \n",
        "data_test_withoutlabel = data_test[:,1:]\n",
        "y_train = data_train[:,0]\n",
        "y_test = data_test[:,0]\n",
        "\n",
        "# standardize data\n",
        "x_train =data_train_withoutlabel/255\n",
        "x_test =data_test_withoutlabel/255\n",
        "\n",
        "print(np.shape(x_test))\n",
        "print(np.shape(x_train))\n",
        "print(np.shape(y_test))\n",
        "print(np.shape(y_train))"
      ],
      "execution_count": null,
      "outputs": [
        {
          "name": "stdout",
          "output_type": "stream",
          "text": [
            "(7172, 784)\n",
            "(27455, 784)\n",
            "(7172,)\n",
            "(27455,)\n"
          ]
        }
      ]
    },
    {
      "cell_type": "code",
      "metadata": {
        "colab": {
          "base_uri": "https://localhost:8080/"
        },
        "id": "kNAj6fxvr7wl",
        "outputId": "61c5dfd4-7939-4caa-8d85-da9eb0de399d"
      },
      "source": [
        "# one-hot encoding of labels\n",
        "y_train =tf.Session().run(tf.one_hot(y_train,24))\n",
        "y_test =tf.Session().run(tf.one_hot(y_test,24))\n",
        "tf.Session().close()\n",
        "\n",
        "print(np.shape(x_train))\n",
        "print(np.shape(x_test))\n",
        "print(np.shape(y_train))\n",
        "print(np.shape(y_test))\n",
        "\n",
        "scaler = StandardScaler()\n",
        "x_train = scaler.fit_transform(x_train)\n",
        "x_test = scaler.transform(x_test)\n",
        "\n",
        "x_test = x_test.T\n",
        "y_test = y_test.T"
      ],
      "execution_count": null,
      "outputs": [
        {
          "name": "stdout",
          "output_type": "stream",
          "text": [
            "(27455, 784)\n",
            "(7172, 784)\n",
            "(27455, 24)\n",
            "(7172, 24)\n"
          ]
        }
      ]
    },
    {
      "cell_type": "code",
      "metadata": {
        "id": "qRUdIY8rr7wl"
      },
      "source": [
        "X_train_shuffle = tf.Session().run(tf.random.shuffle(x_train,seed=12321))\n",
        "Y_train_shuffle = tf.Session().run(tf.random.shuffle(y_train,seed=12321))"
      ],
      "execution_count": null,
      "outputs": []
    },
    {
      "cell_type": "code",
      "metadata": {
        "colab": {
          "base_uri": "https://localhost:8080/"
        },
        "id": "iWuQ7X37r7wm",
        "outputId": "862edc05-bb9b-47ef-f8ed-0c0b63a370d8"
      },
      "source": [
        "# split train data into train and validation sets\n",
        "X_train, X_val, Y_train, Y_val = train_test_split(x_train, y_train, test_size=0.2, random_state=42)\n",
        "print(np.shape(X_train))\n",
        "print(np.shape(X_val))\n",
        "print(np.shape(Y_train))\n",
        "print(np.shape(Y_val))"
      ],
      "execution_count": null,
      "outputs": [
        {
          "name": "stdout",
          "output_type": "stream",
          "text": [
            "(21964, 784)\n",
            "(5491, 784)\n",
            "(21964, 24)\n",
            "(5491, 24)\n"
          ]
        }
      ]
    },
    {
      "cell_type": "code",
      "metadata": {
        "id": "MD6tYsj-qnJP"
      },
      "source": [
        "class VanilaNN(object):\n",
        "    \"\"\"\n",
        "    naive implemetation of Neural Network with desired layers and activations.\n",
        "    \"\"\"\n",
        "    def __init__(self, layers_def={1:{\"type\":\"fc\",\"units\":64,\"activation\":\"sigmoid\"},\n",
        "                                     2:{\"type\":\"fc\",\"units\":128,\"activation\":\"sigmoid\"},\n",
        "                                     3:{\"type\":\"fc\",\"units\":24,\"activation\":\"softmax\"}\n",
        "                                    },loss=\"cross_entropy\", optimizer='adam', optimizer_parameters={'beta1':0.9,'beta2':0.999,'epsilon':1e-8}):\n",
        "        self.loss = loss\n",
        "        self.optimizer = optimizer\n",
        "        self.optimizer_parameters = optimizer_parameters\n",
        "        self.adam_parameters = {}\n",
        "        self.layer_parameters = {}\n",
        "        self.activations = []\n",
        "        self.units = []\n",
        "        \n",
        "        for key in layers_def:\n",
        "            l = layers_def[key]\n",
        "            self.units.append(l['units'])\n",
        "            self.activations.append(l['activation'])\n",
        "        \n",
        "    def train(self,X, Y,X_val, Y_val, learning_rate = 0.001, batch_size = 64, num_epochs = 24,print_cost = True):\n",
        "        N = np.shape(X)[1]\n",
        "        \n",
        "        #initialize layers' parameters\n",
        "        L = len(self.units)\n",
        "        input_dim = np.shape(X)[0]\n",
        "        for i in range(L):\n",
        "            w, b = initialize_parameters(self.units[i], input_dim)\n",
        "            self.layer_parameters['W'+str(i+1)] = w\n",
        "            self.layer_parameters['b'+str(i+1)] = b\n",
        "            if self.optimizer == 'adam':\n",
        "                self.adam_parameters['sw'+str(i+1)] = np.zeros_like(w)\n",
        "                self.adam_parameters['sb'+str(i+1)] = np.zeros_like(b)\n",
        "                self.adam_parameters['rw'+str(i+1)] = np.zeros_like(w)\n",
        "                self.adam_parameters['rb'+str(i+1)] = np.zeros_like(b)\n",
        "            input_dim = self.units[i]\n",
        "        \n",
        "        train_loss_hist = []\n",
        "        train_acc_hist = []\n",
        "        val_loss_hist = []\n",
        "        val_acc_hist = []\n",
        "        \n",
        "        \n",
        "        # Optimization loop\n",
        "        for i in range(num_epochs):\n",
        "            \n",
        "            train_loss = 0\n",
        "            # get random minibatches indices.\n",
        "            minibatches = make_mini_batches(batch_size, N)\n",
        "            minibatch_grads = {}\n",
        "            for minibatch in minibatches:\n",
        "                # Select a minibatch\n",
        "                minibatch_X = X[:,minibatch]\n",
        "                minibatch_Y = Y[:,minibatch]\n",
        "                # Forward propagation\n",
        "                a, caches = forward_propagation(minibatch_X, self.layer_parameters, self.activations)\n",
        "                \n",
        "                # Compute cost\n",
        "                cost = compute_cost(a, minibatch_Y, self.loss)\n",
        "                \n",
        "                \n",
        "                # Backward propagation\n",
        "                grads = backward_propagation(a, minibatch_Y, caches, self.activations, self.loss)\n",
        "                \n",
        "                # Update parameters\n",
        "                if self.optimizer == \"sgd\":\n",
        "                    self.layer_parameters = update_parameters_with_gd(self.layer_parameters, grads, learning_rate)\n",
        "                elif self.optimizer == \"adam\":\n",
        "                    self.layer_parameters, self.adam_parameters = update_parameters_with_adam(\n",
        "                        self.layer_parameters, grads, self.adam_parameters, learning_rate,\n",
        "                        self.optimizer_parameters['beta1'], self.optimizer_parameters['beta2'],\n",
        "                        self.optimizer_parameters['epsilon'])\n",
        "                else:\n",
        "                  raise NotImplementedError('Undefined optimizer')\n",
        "                \n",
        "                \n",
        "                train_loss += cost\n",
        "            \n",
        "            train_loss_hist.append(train_loss/batch_size)\n",
        "            train_acc_hist.append(1-train_loss/batch_size)\n",
        "            \n",
        "            test_acc, test_loss = self.evaluate(X_val, Y_val, 1)\n",
        "            val_acc_hist.append(test_acc)\n",
        "            val_loss_hist.append(test_loss)\n",
        "            \n",
        "            \n",
        "\n",
        "        history = {'loss_train': train_loss_hist,\n",
        "                   'loss_val': val_loss_hist,\n",
        "                   'accuracy_train': train_acc_hist,\n",
        "                   'accuracy_val': val_acc_hist}\n",
        "        return history\n",
        "    \n",
        "    def evaluate(self, x_test, y_test,batch_size):\n",
        "        \"\"\"\n",
        "        Arguments:\n",
        "          x_test: input data, of shape (features, N)\n",
        "          y_test : true label (num_classes, N)\n",
        "        returns:\n",
        "          acc, cost\n",
        "        \"\"\"\n",
        "        N = x_test.shape[1]\n",
        "        cost = 0\n",
        "        \n",
        "        for i in range(N):\n",
        "            a, _ = forward_propagation(x_test[:, i], self.layer_parameters, self.activations)\n",
        "            cost += compute_cost(a, y_test[:, i], self.loss)/N\n",
        "        acc = 1 - cost\n",
        "        \n",
        "        return acc, cost\n",
        "    def predict(self, x_test, batch_size=512):\n",
        "        \"\"\"\n",
        "        Arguments:\n",
        "          x_test: input data, of shape (features, N)\n",
        "        returns:\n",
        "          predicted values\n",
        "        \"\"\"\n",
        "        N = x_test.shape[1]\n",
        "        predictions = []\n",
        "        \n",
        "        for i in range(N):\n",
        "            test_vec = x_test[:, i]\n",
        "            a, _ = forward_propagation(test_vec, self.layer_parameters, self.activations)\n",
        "            if self.activations[-1] != 'linear':\n",
        "                y_hat = (a >= 0.5) * 1\n",
        "            else:\n",
        "                y_hat = (a > 0) * 1\n",
        "            predictions.append(y_hat)            \n",
        "                \n",
        "        return predictions"
      ],
      "execution_count": null,
      "outputs": []
    },
    {
      "cell_type": "code",
      "metadata": {
        "id": "7IRnNpKRXVp6",
        "scrolled": true
      },
      "source": [
        "model = VanilaNN(layers_def={1:{\"type\":\"fc\",\"units\":64,\"activation\":\"relu\"},\n",
        "                                     #2:{\"type\":\"fc\",\"units\":128,\"activation\":\"relu\"},\n",
        "                                     2:{\"type\":\"fc\",\"units\":24,\"activation\":\"softmax\"}\n",
        "                                    }, optimizer='sgd', loss='cross_entropy')\n",
        "history = model.train(X_train.T, Y_train.T, X_val.T, Y_val.T, learning_rate=1 , num_epochs=200)"
      ],
      "execution_count": null,
      "outputs": []
    },
    {
      "cell_type": "code",
      "metadata": {
        "colab": {
          "base_uri": "https://localhost:8080/"
        },
        "id": "_kqhjeYuXbol",
        "outputId": "e48e9952-6ef1-433b-edbb-0dbe0ebc7d75"
      },
      "source": [
        "batch_size = 64\n",
        "test_acc, test_loss = model.evaluate(x_test, y_test,batch_size)\n",
        "print(\"Accuracy = %2.2f, Loss = %2.4f\"%(test_acc, test_loss))"
      ],
      "execution_count": null,
      "outputs": [
        {
          "name": "stdout",
          "output_type": "stream",
          "text": [
            "Accuracy = 0.96, Loss = 0.0433\n"
          ]
        }
      ]
    },
    {
      "cell_type": "markdown",
      "metadata": {
        "id": "2AUDElrWke34"
      },
      "source": [
        "function for rgb2gray"
      ]
    },
    {
      "cell_type": "code",
      "metadata": {
        "id": "0BMZpf5PN0R-"
      },
      "source": [
        "def rgb2gray(rgb):\n",
        "    r, g, b = rgb[:,:,0], rgb[:,:,1], rgb[:,:,2]\n",
        "    gray = 0.2989 * r + 0.5870 * g + 0.1140 * b\n",
        "    return gray"
      ],
      "execution_count": null,
      "outputs": []
    },
    {
      "cell_type": "markdown",
      "metadata": {
        "id": "02M8vuvckjAs"
      },
      "source": [
        "##load new images"
      ]
    },
    {
      "cell_type": "code",
      "metadata": {
        "colab": {
          "base_uri": "https://localhost:8080/"
        },
        "id": "Kl43D0miDgab",
        "outputId": "57208f32-79b5-4e49-c083-7adf95fe989a"
      },
      "source": [
        "from PIL import Image\n",
        "img1 = rgb2gray(np.array(Image.open('/content/drive/My Drive/deep/HW1/image1.bmp')))\n",
        "img2 = rgb2gray(np.array(Image.open('/content/drive/My Drive/deep/HW1/image2.bmp')))\n",
        "img3 = rgb2gray(np.array(Image.open('/content/drive/My Drive/deep/HW1/image3.bmp')))\n",
        "img4 = rgb2gray(np.array(Image.open('/content/drive/My Drive/deep/HW1/image4.bmp')))\n",
        "print(np.shape(img4))"
      ],
      "execution_count": null,
      "outputs": [
        {
          "name": "stdout",
          "output_type": "stream",
          "text": [
            "(487, 517)\n"
          ]
        }
      ]
    },
    {
      "cell_type": "markdown",
      "metadata": {
        "id": "lRh_jFqSkqla"
      },
      "source": [
        "##preprocess new images\n",
        "resize , normalize and flatten new images"
      ]
    },
    {
      "cell_type": "code",
      "metadata": {
        "colab": {
          "base_uri": "https://localhost:8080/",
          "height": 298
        },
        "id": "2cqG_USnPxED",
        "outputId": "b18f88f4-2afa-41b9-8c45-0e1a30541162"
      },
      "source": [
        "image1 = np.array(Image.fromarray(img1).resize((28, 28), Image.ANTIALIAS))\n",
        "image2 = np.array(Image.fromarray(img2).resize((28, 28), Image.ANTIALIAS))\n",
        "image3 = np.array(Image.fromarray(img3).resize((28, 28), Image.ANTIALIAS))\n",
        "image4 = np.array(Image.fromarray(img4).resize((28, 28), Image.ANTIALIAS))\n",
        "\n",
        "#normalize\n",
        "image1_n =image1/255\n",
        "image2_n =image2/255\n",
        "image3_n =image3/255\n",
        "image4_n =image4/255\n",
        "\n",
        "image1_n = scaler.fit_transform(image1_n)\n",
        "image2_n = scaler.fit_transform(image2_n)\n",
        "image3_n = scaler.fit_transform(image3_n)\n",
        "image4_n = scaler.fit_transform(image4_n)\n",
        "\n",
        "#flatten data\n",
        "test1 =image1_n.flatten()\n",
        "test2 =image2_n.flatten()\n",
        "test3 =image3_n.flatten()\n",
        "test4 =image4_n.flatten()\n",
        "\n",
        "plt.imshow(image4_n)\n",
        "\n",
        "new_test= np.zeros((784,4))\n",
        "new_test[:,0]=test1[0:784]\n",
        "new_test[:,1]=test2[0:784]\n",
        "new_test[:,2]=test3[0:784]\n",
        "new_test[:,3]=test4[0:784]\n",
        "print('image1=',np.shape(image1))\n",
        "print('test1=',np.shape(test1))\n",
        "#print(np.shape(new_test1))"
      ],
      "execution_count": null,
      "outputs": [
        {
          "name": "stdout",
          "output_type": "stream",
          "text": [
            "image1= (28, 28)\n",
            "test1= (784,)\n"
          ]
        },
        {
          "data": {
            "image/png": "[encoded data removed]",
            "text/plain": [
              "<Figure size 432x288 with 1 Axes>"
            ]
          },
          "metadata": {},
          "output_type": "display_data"
        }
      ]
    },
    {
      "cell_type": "markdown",
      "metadata": {
        "id": "5zL9md18k1zp"
      },
      "source": [
        "make a prediction"
      ]
    },
    {
      "cell_type": "code",
      "metadata": {
        "colab": {
          "base_uri": "https://localhost:8080/",
          "height": 1000
        },
        "id": "flxwSaC9mT36",
        "outputId": "37278d11-567f-4d1d-862c-b342fea93b22"
      },
      "source": [
        "# make a prediction of actual dataset:ALL NUM OF TEST = 7172\n",
        "m = 550\n",
        "# prediction by default data set ===> x_test & y_test\n",
        "prediction = model.predict(x_test[:,m:m+1])\n",
        "print('prediction of actual test data: ', prediction[0], \" true label: \",y_test[:, m])\n",
        "\n",
        "# prediction by new test-data \n",
        "print(np.shape(new_test))\n",
        "\n",
        "n = 0\n",
        "prediction1 = model.predict(new_test[:,n:n+1])\n",
        "print('prediction1: ', prediction1[0])\n",
        "print('label of prediction1: ', np.argmax(prediction1[0], axis=0))\n",
        "plt.imshow(new_test[:,n:n+1].reshape(28,28))\n",
        "plt.show()\n",
        "print('-------------------------------------')\n",
        "\n",
        "n = 1\n",
        "prediction2 = model.predict(new_test[:,n:n+1])\n",
        "print('prediction2: ', prediction2[0])\n",
        "print('label of prediction2: ', np.argmax(prediction2[0], axis=0))\n",
        "plt.imshow(new_test[:,n:n+1].reshape(28,28))\n",
        "plt.show()\n",
        "print('-------------------------------------')\n",
        "\n",
        "n = 2\n",
        "prediction3 = model.predict(new_test[:,n:n+1])\n",
        "print('prediction3: ', prediction3[0])\n",
        "print('label of prediction3: ', np.argmax(prediction3[0], axis=0))\n",
        "plt.imshow(new_test[:,n:n+1].reshape(28,28))\n",
        "plt.show()\n",
        "print('-------------------------------------')\n",
        "\n",
        "n = 3\n",
        "prediction4 = model.predict(new_test[:,n:n+1])\n",
        "print('prediction4: ', prediction4[0])\n",
        "print('label of prediction4: ', np.argmax(prediction4[0], axis=0))\n",
        "plt.imshow(new_test[:,n:n+1].reshape(28,28))\n",
        "plt.show()\n",
        "print('-------------------------------------')"
      ],
      "execution_count": null,
      "outputs": [
        {
          "name": "stdout",
          "output_type": "stream",
          "text": [
            "prediction of actual test data:  [0 0 0 0 0 0 0 0 0 0 0 0 0 1 0 0 0 0 0 0 0 0 0 0]  true label:  [0. 0. 0. 0. 0. 0. 0. 0. 0. 0. 0. 0. 0. 1. 0. 0. 0. 0. 0. 0. 0. 0. 0. 0.]\n",
            "(784, 4)\n",
            "prediction1:  [0 0 0 0 0 0 0 0 0 0 0 0 0 0 0 0 0 0 0 0 0 0 1 0]\n",
            "label of prediction1:  22\n"
          ]
        },
        {
          "data": {
            "image/png": "[encoded data removed]",
            "text/plain": [
              "<Figure size 432x288 with 1 Axes>"
            ]
          },
          "metadata": {},
          "output_type": "display_data"
        },
        {
          "name": "stdout",
          "output_type": "stream",
          "text": [
            "-------------------------------------\n",
            "prediction2:  [0 0 0 0 0 0 1 0 0 0 0 0 0 0 0 0 0 0 0 0 0 0 0 0]\n",
            "label of prediction2:  6\n"
          ]
        },
        {
          "data": {
            "image/png": "[encoded data removed]",
            "text/plain": [
              "<Figure size 432x288 with 1 Axes>"
            ]
          },
          "metadata": {},
          "output_type": "display_data"
        },
        {
          "name": "stdout",
          "output_type": "stream",
          "text": [
            "-------------------------------------\n",
            "prediction3:  [0 0 0 0 0 0 0 1 0 0 0 0 0 0 0 0 0 0 0 0 0 0 0 0]\n",
            "label of prediction3:  7\n"
          ]
        },
        {
          "data": {
            "image/png": "[encoded data removed]",
            "text/plain": [
              "<Figure size 432x288 with 1 Axes>"
            ]
          },
          "metadata": {},
          "output_type": "display_data"
        },
        {
          "name": "stdout",
          "output_type": "stream",
          "text": [
            "-------------------------------------\n",
            "prediction4:  [0 0 0 0 0 0 0 0 0 0 0 0 1 0 0 0 0 0 0 0 0 0 0 0]\n",
            "label of prediction4:  12\n"
          ]
        },
        {
          "data": {
            "image/png": "[encoded data removed]",
            "text/plain": [
              "<Figure size 432x288 with 1 Axes>"
            ]
          },
          "metadata": {},
          "output_type": "display_data"
        },
        {
          "name": "stdout",
          "output_type": "stream",
          "text": [
            "-------------------------------------\n"
          ]
        }
      ]
    }
  ]
}